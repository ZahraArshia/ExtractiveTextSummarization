{
  "nbformat": 4,
  "nbformat_minor": 0,
  "metadata": {
    "colab": {
      "name": "textSummerization.ipynb",
      "provenance": [],
      "collapsed_sections": [
        "OKDDOft4XoCa",
        "uyOi66BXhnQZ",
        "nG5JyM4nlVV3",
        "6B051J9wpx6C"
      ],
      "authorship_tag": "ABX9TyPoUVjb/E1zn8JK+U2hBbxT",
      "include_colab_link": true
    },
    "kernelspec": {
      "name": "python3",
      "display_name": "Python 3"
    },
    "language_info": {
      "name": "python"
    },
    "accelerator": "TPU"
  },
  "cells": [
    {
      "cell_type": "markdown",
      "metadata": {
        "id": "view-in-github",
        "colab_type": "text"
      },
      "source": [
        "<a href=\"https://colab.research.google.com/github/ZahraArshia/ExtractiveTextSummarization-/blob/main/textSummerization.ipynb\" target=\"_parent\"><img src=\"https://colab.research.google.com/assets/colab-badge.svg\" alt=\"Open In Colab\"/></a>"
      ]
    },
    {
      "cell_type": "markdown",
      "source": [
        "# Text Summarization"
      ],
      "metadata": {
        "id": "zAeJjO14Xixk"
      }
    },
    {
      "cell_type": "markdown",
      "source": [
        "## preprocess"
      ],
      "metadata": {
        "id": "OKDDOft4XoCa"
      }
    },
    {
      "cell_type": "code",
      "execution_count": 60,
      "metadata": {
        "id": "9W-LG3EfXbnK"
      },
      "outputs": [],
      "source": [
        "text = \"Generating random paragraphs can be an excellent way for writers to get their creative flow going at the beginning of the day. The writer has no idea what topic the random paragraph will be about when it appears. This forces the writer to use creativity to complete one of three common writing challenges. The writer can use the paragraph as the first one of a short story and build upon it. A second option is to use the random paragraph somewhere in a short story they create. The third option is to have the random paragraph be the ending paragraph in a short story. No matter which of these challenges is undertaken, the writer is forced to use creativity to incorporate the paragraph into their writing.\""
      ]
    },
    {
      "cell_type": "code",
      "source": [
        "import nltk\n",
        "nltk.download('punkt')\n",
        "nltk.download('stopwords')"
      ],
      "metadata": {
        "id": "-Hk8_b3xZBG-"
      },
      "execution_count": null,
      "outputs": []
    },
    {
      "cell_type": "code",
      "source": [
        "from nltk.corpus import stopwords\n",
        "from nltk.tokenize import word_tokenize, sent_tokenize\n",
        "from nltk.tokenize import RegexpTokenizer"
      ],
      "metadata": {
        "id": "jrj5N341ZW5P"
      },
      "execution_count": 82,
      "outputs": []
    },
    {
      "cell_type": "code",
      "source": [
        "stopwords = set (stopwords.words(\"english\"))\n",
        "doc = word_tokenize(text)\n",
        "# tokenizer = RegexpTokenizer(r'\\w+')\n",
        "# doc = tokenizer.tokenize(text)"
      ],
      "metadata": {
        "id": "mY4yiNkAfqAd"
      },
      "execution_count": 83,
      "outputs": []
    },
    {
      "cell_type": "code",
      "source": [
        "doc"
      ],
      "metadata": {
        "id": "RTlw-wcaheXT"
      },
      "execution_count": null,
      "outputs": []
    },
    {
      "cell_type": "code",
      "source": [
        "sentences = sent_tokenize(text)\n",
        "sentences"
      ],
      "metadata": {
        "id": "JN6cnVB6f4H9"
      },
      "execution_count": null,
      "outputs": []
    },
    {
      "cell_type": "markdown",
      "source": [
        "## frequency"
      ],
      "metadata": {
        "id": "uyOi66BXhnQZ"
      }
    },
    {
      "cell_type": "code",
      "source": [
        "freq = {}\n",
        "for word in doc:\n",
        "  if word.lower() not in stopwords:\n",
        "    if word not in freq.keys():\n",
        "      freq[word] = 1\n",
        "    else:\n",
        "      freq[word] += 1"
      ],
      "metadata": {
        "id": "iL58ePv2h6D8"
      },
      "execution_count": 86,
      "outputs": []
    },
    {
      "cell_type": "code",
      "source": [
        "max(freq.values())"
      ],
      "metadata": {
        "id": "zmCUR0AEjY1B"
      },
      "execution_count": null,
      "outputs": []
    },
    {
      "cell_type": "code",
      "source": [
        "freq"
      ],
      "metadata": {
        "id": "TF_M81vPjhef"
      },
      "execution_count": null,
      "outputs": []
    },
    {
      "cell_type": "code",
      "source": [
        "for word in freq.keys():\n",
        "  freq[word] = freq[word]/max(freq.values())\n",
        "freq"
      ],
      "metadata": {
        "id": "y7m1352tkyOR"
      },
      "execution_count": null,
      "outputs": []
    },
    {
      "cell_type": "markdown",
      "source": [
        "## score of each sentence"
      ],
      "metadata": {
        "id": "nG5JyM4nlVV3"
      }
    },
    {
      "cell_type": "code",
      "source": [
        "score = {}"
      ],
      "metadata": {
        "id": "6psvyZ3Yo4OG"
      },
      "execution_count": 93,
      "outputs": []
    },
    {
      "cell_type": "code",
      "source": [
        "for sent in sentences:\n",
        "  for word, frequence in freq.items():\n",
        "    if word in sent.lower():\n",
        "      if sent not in score:\n",
        "        score[sent] = 1\n",
        "      else:\n",
        "        score[sent] += frequence"
      ],
      "metadata": {
        "id": "fgEGoa7Yo6jo"
      },
      "execution_count": 96,
      "outputs": []
    },
    {
      "cell_type": "code",
      "source": [
        "score"
      ],
      "metadata": {
        "id": "_aFH1y0ymjNu"
      },
      "execution_count": null,
      "outputs": []
    },
    {
      "cell_type": "markdown",
      "source": [
        "## extractive summarize"
      ],
      "metadata": {
        "id": "6B051J9wpx6C"
      }
    },
    {
      "cell_type": "code",
      "source": [
        "from heapq import nlargest"
      ],
      "metadata": {
        "id": "D5IptjdmqDd3"
      },
      "execution_count": 98,
      "outputs": []
    },
    {
      "cell_type": "code",
      "source": [
        "len(score)*0.5"
      ],
      "metadata": {
        "id": "zbBrqFXbqNIW"
      },
      "execution_count": null,
      "outputs": []
    },
    {
      "cell_type": "code",
      "source": [
        "summary = nlargest(3,iterable=score,key=score.get)\n",
        "summary"
      ],
      "metadata": {
        "id": "CWSxS8H7qW3w"
      },
      "execution_count": null,
      "outputs": []
    },
    {
      "cell_type": "code",
      "source": [
        "final = [word for word in summary]\n",
        "final"
      ],
      "metadata": {
        "id": "eXuHTettquCu"
      },
      "execution_count": null,
      "outputs": []
    },
    {
      "cell_type": "code",
      "source": [
        "\"\".join(final)"
      ],
      "metadata": {
        "id": "U4da3Xjlq7oP"
      },
      "execution_count": null,
      "outputs": []
    },
    {
      "cell_type": "code",
      "source": [
        "len(\"\".join(final))/len(text)"
      ],
      "metadata": {
        "id": "3kEs-fQYrG9A"
      },
      "execution_count": null,
      "outputs": []
    }
  ]
}